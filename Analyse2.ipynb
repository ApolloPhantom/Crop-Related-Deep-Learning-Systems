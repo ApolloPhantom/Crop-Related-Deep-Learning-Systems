{
 "cells": [
  {
   "cell_type": "code",
   "execution_count": 56,
   "metadata": {},
   "outputs": [],
   "source": [
    "import pandas as pd\n",
    "import matplotlib.pyplot as plt\n",
    "import numpy as np\n",
    "import seaborn as sns"
   ]
  },
  {
   "cell_type": "code",
   "execution_count": 57,
   "metadata": {},
   "outputs": [
    {
     "name": "stdout",
     "output_type": "stream",
     "text": [
      "<class 'pandas.core.frame.DataFrame'>\n",
      "RangeIndex: 345407 entries, 0 to 345406\n",
      "Data columns (total 10 columns):\n",
      " #   Column            Non-Null Count   Dtype  \n",
      "---  ------            --------------   -----  \n",
      " 0   State             345407 non-null  object \n",
      " 1   District          345407 non-null  object \n",
      " 2   Crop              345375 non-null  object \n",
      " 3   Year              345407 non-null  object \n",
      " 4   Season            345406 non-null  object \n",
      " 5   Area              345374 non-null  float64\n",
      " 6   Area Units        345407 non-null  object \n",
      " 7   Production        340414 non-null  float64\n",
      " 8   Production Units  345407 non-null  object \n",
      " 9   Yield             345374 non-null  float64\n",
      "dtypes: float64(3), object(7)\n",
      "memory usage: 26.4+ MB\n"
     ]
    }
   ],
   "source": [
    "df1 = pd.read_csv(\"Data/India Agriculture Crop Production.csv\")\n",
    "df1.info()"
   ]
  },
  {
   "cell_type": "code",
   "execution_count": 58,
   "metadata": {},
   "outputs": [
    {
     "name": "stdout",
     "output_type": "stream",
     "text": [
      "Unique values in State is 36\n",
      "Unique values in District is 729\n",
      "Unique values in Crop is 56\n",
      "Unique values in Year is 24\n",
      "Unique values in Season is 6\n",
      "Unique values in Area is 48006\n",
      "Unique values in Area Units is 1\n",
      "Unique values in Production is 69078\n",
      "Unique values in Production Units is 3\n",
      "Unique values in Yield is 197154\n"
     ]
    }
   ],
   "source": [
    "for i in df1.columns:\n",
    "    print(f\"Unique values in {i} is {df1[i].nunique()}\")"
   ]
  },
  {
   "cell_type": "code",
   "execution_count": 59,
   "metadata": {},
   "outputs": [
    {
     "name": "stdout",
     "output_type": "stream",
     "text": [
      "['2001-02' '2002-03' '2003-04' '2004-05' '2005-06' '2006-07' '2007-08'\n",
      " '2008-09' '2009-10' '2010-11' '2011-12' '2012-13' '2013-14' '2014-15'\n",
      " '2015-16' '2016-17' '2017-18' '2018-19' '2019-20' '2020-21' '2000-01'\n",
      " '1997-98' '1998-99' '1999-00']\n"
     ]
    }
   ],
   "source": [
    "Year = df1[\"Year\"].unique()\n",
    "print(Year)"
   ]
  },
  {
   "cell_type": "code",
   "execution_count": 60,
   "metadata": {},
   "outputs": [],
   "source": [
    "dfx = df1[df1[\"Production Units\"]==\"Tonnes\"]\n",
    "dfy = df1[df1[\"Production Units\"]==\"Nuts\"]\n",
    "dfz = df1[df1[\"Production Units\"]==\"Bales\"]"
   ]
  },
  {
   "cell_type": "code",
   "execution_count": 61,
   "metadata": {},
   "outputs": [
    {
     "name": "stdout",
     "output_type": "stream",
     "text": [
      "State                  0\n",
      "District               0\n",
      "Crop                  32\n",
      "Year                   0\n",
      "Season                 1\n",
      "Area                  33\n",
      "Area Units             0\n",
      "Production          4687\n",
      "Production Units       0\n",
      "Yield                 33\n",
      "dtype: int64 \n",
      "\n",
      "State                0\n",
      "District             0\n",
      "Crop                 0\n",
      "Year                 0\n",
      "Season               0\n",
      "Area                 0\n",
      "Area Units           0\n",
      "Production          36\n",
      "Production Units     0\n",
      "Yield                0\n",
      "dtype: int64 \n",
      "\n",
      "State                 0\n",
      "District              0\n",
      "Crop                  0\n",
      "Year                  0\n",
      "Season                0\n",
      "Area                  0\n",
      "Area Units            0\n",
      "Production          270\n",
      "Production Units      0\n",
      "Yield                 0\n",
      "dtype: int64 \n",
      "\n"
     ]
    }
   ],
   "source": [
    "print(dfx.isnull().sum(),\"\\n\")\n",
    "print(dfy.isnull().sum(),\"\\n\")\n",
    "print(dfz.isnull().sum(),\"\\n\")"
   ]
  },
  {
   "cell_type": "code",
   "execution_count": 62,
   "metadata": {},
   "outputs": [
    {
     "name": "stdout",
     "output_type": "stream",
     "text": [
      "['Arecanut' 'Banana' 'Black pepper' 'Cashewnut' 'Dry chillies' 'Ginger'\n",
      " 'Other Kharif pulses' 'other oilseeds' 'Rice' 'Sugarcane' 'Sweet potato'\n",
      " 'Arhar/Tur' 'Bajra' 'Castor seed' 'Coriander' 'Gram' 'Groundnut'\n",
      " 'Horse-gram' 'Jowar' 'Linseed' 'Maize' 'Moong(Green Gram)' 'Niger seed'\n",
      " 'Onion' 'Other Rabi pulses' 'Potato' 'Ragi' 'Rapeseed &Mustard'\n",
      " 'Safflower' 'Sesamum' 'Small millets' 'Soyabean' 'Sunflower' 'Tapioca'\n",
      " 'Tobacco' 'Turmeric' 'Urad' 'Wheat' 'Oilseeds total' 'Masoor'\n",
      " 'Peas & beans (Pulses)' 'Barley' 'Garlic' 'Khesari' 'Sannhamp'\n",
      " 'Guar seed' 'Moth' 'Cardamom' 'Other Cereals' 'Cowpea(Lobia)'\n",
      " 'Dry Ginger' 'Other Summer Pulses' nan]\n",
      "52\n",
      "32\n"
     ]
    }
   ],
   "source": [
    "print(dfx[\"Crop\"].unique())\n",
    "print(dfx[\"Crop\"].nunique())\n",
    "print(dfx[\"Crop\"].isnull().sum())"
   ]
  },
  {
   "cell_type": "code",
   "execution_count": 63,
   "metadata": {},
   "outputs": [
    {
     "name": "stdout",
     "output_type": "stream",
     "text": [
      "State                  0\n",
      "District               0\n",
      "Crop                  32\n",
      "Year                   0\n",
      "Season                 1\n",
      "Area                  33\n",
      "Area Units             0\n",
      "Production          4687\n",
      "Production Units       0\n",
      "Yield                 33\n",
      "dtype: int64\n",
      "<class 'pandas.core.frame.DataFrame'>\n",
      "Index: 331686 entries, 0 to 345406\n",
      "Data columns (total 10 columns):\n",
      " #   Column            Non-Null Count   Dtype  \n",
      "---  ------            --------------   -----  \n",
      " 0   State             331686 non-null  object \n",
      " 1   District          331686 non-null  object \n",
      " 2   Crop              331654 non-null  object \n",
      " 3   Year              331686 non-null  object \n",
      " 4   Season            331685 non-null  object \n",
      " 5   Area              331653 non-null  float64\n",
      " 6   Area Units        331686 non-null  object \n",
      " 7   Production        326999 non-null  float64\n",
      " 8   Production Units  331686 non-null  object \n",
      " 9   Yield             331653 non-null  float64\n",
      "dtypes: float64(3), object(7)\n",
      "memory usage: 27.8+ MB\n",
      "None\n",
      "State               0\n",
      "District            0\n",
      "Crop                0\n",
      "Year                0\n",
      "Season              0\n",
      "Area                0\n",
      "Area Units          0\n",
      "Production          0\n",
      "Production Units    0\n",
      "Yield               0\n",
      "dtype: int64\n",
      "<class 'pandas.core.frame.DataFrame'>\n",
      "Index: 326999 entries, 0 to 345374\n",
      "Data columns (total 10 columns):\n",
      " #   Column            Non-Null Count   Dtype  \n",
      "---  ------            --------------   -----  \n",
      " 0   State             326999 non-null  object \n",
      " 1   District          326999 non-null  object \n",
      " 2   Crop              326999 non-null  object \n",
      " 3   Year              326999 non-null  object \n",
      " 4   Season            326999 non-null  object \n",
      " 5   Area              326999 non-null  float64\n",
      " 6   Area Units        326999 non-null  object \n",
      " 7   Production        326999 non-null  float64\n",
      " 8   Production Units  326999 non-null  object \n",
      " 9   Yield             326999 non-null  float64\n",
      "dtypes: float64(3), object(7)\n",
      "memory usage: 27.4+ MB\n",
      "None\n"
     ]
    }
   ],
   "source": [
    "print(dfx.isnull().sum())\n",
    "print(dfx.info())\n",
    "dfx = dfx.dropna(subset=['Crop'])\n",
    "dfx = dfx.dropna(subset=['Season'])\n",
    "dfx = dfx.dropna(subset=['Area'])\n",
    "dfx = dfx.dropna(subset=['Production'])\n",
    "print(dfx.isnull().sum())\n",
    "print(dfx.info())\n"
   ]
  },
  {
   "cell_type": "code",
   "execution_count": 64,
   "metadata": {},
   "outputs": [
    {
     "name": "stdout",
     "output_type": "stream",
     "text": [
      "<class 'pandas.core.frame.DataFrame'>\n",
      "Index: 326999 entries, 0 to 345374\n",
      "Data columns (total 10 columns):\n",
      " #   Column            Non-Null Count   Dtype  \n",
      "---  ------            --------------   -----  \n",
      " 0   State             326999 non-null  object \n",
      " 1   District          326999 non-null  object \n",
      " 2   Crop              326999 non-null  object \n",
      " 3   Year              326999 non-null  object \n",
      " 4   Season            326999 non-null  object \n",
      " 5   Area              326999 non-null  float64\n",
      " 6   Area Units        326999 non-null  object \n",
      " 7   Production        326999 non-null  float64\n",
      " 8   Production Units  326999 non-null  object \n",
      " 9   Yield             326999 non-null  float64\n",
      "dtypes: float64(3), object(7)\n",
      "memory usage: 27.4+ MB\n",
      "Unique Values:-\n"
     ]
    },
    {
     "data": {
      "text/plain": [
       "State                   36\n",
       "District               728\n",
       "Crop                    52\n",
       "Year                    24\n",
       "Season                   6\n",
       "Area                 46121\n",
       "Area Units               1\n",
       "Production           64373\n",
       "Production Units         1\n",
       "Yield               188361\n",
       "dtype: int64"
      ]
     },
     "execution_count": 64,
     "metadata": {},
     "output_type": "execute_result"
    }
   ],
   "source": [
    "dfx.info()\n",
    "print(\"Unique Values:-\")\n",
    "dfx.nunique()"
   ]
  },
  {
   "cell_type": "code",
   "execution_count": 65,
   "metadata": {},
   "outputs": [],
   "source": [
    "df = dfx"
   ]
  },
  {
   "cell_type": "code",
   "execution_count": 66,
   "metadata": {},
   "outputs": [],
   "source": [
    "from sklearn.model_selection import train_test_split\n",
    "from sklearn.preprocessing import LabelEncoder, MinMaxScaler"
   ]
  },
  {
   "cell_type": "code",
   "execution_count": 67,
   "metadata": {},
   "outputs": [],
   "source": [
    "# Encode categorical features\n",
    "label_encoders = {}\n",
    "categorical_features = ['State', 'District', 'Crop', 'Year', 'Season', 'Area Units', 'Production Units']\n",
    "for feature in categorical_features:\n",
    "    le = LabelEncoder()\n",
    "    df[feature] = le.fit_transform(df[feature])\n",
    "    label_encoders[feature] = le"
   ]
  },
  {
   "cell_type": "code",
   "execution_count": 68,
   "metadata": {},
   "outputs": [],
   "source": [
    "# Normalize numerical features\n",
    "scaler = MinMaxScaler()\n",
    "numerical_features = ['Area', 'Production', 'Yield']\n",
    "df[numerical_features] = scaler.fit_transform(df[numerical_features])"
   ]
  },
  {
   "cell_type": "code",
   "execution_count": 69,
   "metadata": {},
   "outputs": [],
   "source": [
    "# Prepare the data for time series prediction\n",
    "def create_sequences(data, seq_length):\n",
    "    xs, ys = [], []\n",
    "    for i in range(len(data)-seq_length):\n",
    "        x = data[i:i+seq_length]\n",
    "        y = data[i+seq_length][-1]\n",
    "        xs.append(x)\n",
    "        ys.append(y)\n",
    "    return np.array(xs), np.array(ys).reshape(-1, 1)\n",
    "\n",
    "seq_length = 10  # Example sequence length\n",
    "features = ['State', 'District', 'Crop', 'Year', 'Season', 'Area', 'Yield']\n",
    "target = 'Production'\n",
    "data = df[features + [target]].values\n",
    "\n",
    "X, y = create_sequences(data, seq_length)\n",
    "\n",
    "# Split the data\n",
    "X_train, X_test, y_train, y_test = train_test_split(X, y, test_size=0.2, random_state=42)"
   ]
  },
  {
   "cell_type": "code",
   "execution_count": 70,
   "metadata": {},
   "outputs": [
    {
     "name": "stdout",
     "output_type": "stream",
     "text": [
      "Using device: cuda\n"
     ]
    }
   ],
   "source": [
    "import torch\n",
    "from torch.utils.data import Dataset, DataLoader\n",
    "\n",
    "device = torch.device('cuda' if torch.cuda.is_available() else 'cpu')\n",
    "print(f'Using device: {device}')\n",
    "\n",
    "class TimeSeriesDataset(Dataset):\n",
    "    def __init__(self, X, y):\n",
    "        self.X = X\n",
    "        self.y = y\n",
    "\n",
    "    def __len__(self):\n",
    "        return len(self.X)\n",
    "\n",
    "    def __getitem__(self, idx):\n",
    "        return torch.tensor(self.X[idx], dtype=torch.float32).to(device), torch.tensor(self.y[idx], dtype=torch.float32).to(device)\n",
    "\n",
    "train_dataset = TimeSeriesDataset(X_train, y_train)\n",
    "test_dataset = TimeSeriesDataset(X_test, y_test)\n",
    "\n",
    "train_loader = DataLoader(train_dataset, batch_size=32, shuffle=True)\n",
    "test_loader = DataLoader(test_dataset, batch_size=32, shuffle=False)\n"
   ]
  },
  {
   "cell_type": "code",
   "execution_count": 71,
   "metadata": {},
   "outputs": [],
   "source": [
    "import torch.nn as nn\n",
    "\n",
    "class RNNModel(nn.Module):\n",
    "    def __init__(self, input_dim, hidden_dim, output_dim, num_layers=1):\n",
    "        super(RNNModel, self).__init__()\n",
    "        self.rnn = nn.RNN(input_dim, hidden_dim, num_layers, batch_first=True)\n",
    "        self.fc = nn.Linear(hidden_dim, output_dim)\n",
    "\n",
    "    def forward(self, x):\n",
    "        out, _ = self.rnn(x)\n",
    "        out = self.fc(out[:, -1, :])\n",
    "        return out\n",
    "\n",
    "class LSTMModel(nn.Module):\n",
    "    def __init__(self, input_dim, hidden_dim, output_dim, num_layers=1):\n",
    "        super(LSTMModel, self).__init__()\n",
    "        self.lstm = nn.LSTM(input_dim, hidden_dim, num_layers, batch_first=True)\n",
    "        self.fc = nn.Linear(hidden_dim, output_dim)\n",
    "\n",
    "    def forward(self, x):\n",
    "        out, _ = self.lstm(x)\n",
    "        out = self.fc(out[:, -1, :])\n",
    "        return out\n",
    "\n",
    "class GRUModel(nn.Module):\n",
    "    def __init__(self, input_dim, hidden_dim, output_dim, num_layers=1):\n",
    "        super(GRUModel, self).__init__()\n",
    "        self.gru = nn.GRU(input_dim, hidden_dim, num_layers, batch_first=True)\n",
    "        self.fc = nn.Linear(hidden_dim, output_dim)\n",
    "\n",
    "    def forward(self, x):\n",
    "        out, _ = self.gru(x)\n",
    "        out = self.fc(out[:, -1, :])\n",
    "        return out\n",
    "\n",
    "input_dim = X_train.shape[2]\n",
    "hidden_dim = 50\n",
    "output_dim = 1\n",
    "num_layers = 1\n",
    "\n",
    "rnn_model = RNNModel(input_dim, hidden_dim, output_dim, num_layers).to(device)\n",
    "lstm_model = LSTMModel(input_dim, hidden_dim, output_dim, num_layers).to(device)\n",
    "gru_model = GRUModel(input_dim, hidden_dim, output_dim, num_layers).to(device)\n"
   ]
  },
  {
   "cell_type": "code",
   "execution_count": 72,
   "metadata": {},
   "outputs": [
    {
     "name": "stdout",
     "output_type": "stream",
     "text": [
      "Epoch 1/10, Loss: 1.349336980638327e-05\n",
      "Epoch 2/10, Loss: 0.0006496596615761518\n",
      "Epoch 3/10, Loss: 0.00011042522237403318\n",
      "Epoch 4/10, Loss: 8.369672286789864e-05\n",
      "Epoch 5/10, Loss: 0.0001545279665151611\n",
      "Epoch 6/10, Loss: 0.00010912428115261719\n",
      "Epoch 7/10, Loss: 4.0965933294501156e-05\n",
      "Epoch 8/10, Loss: 0.00017392318113707006\n",
      "Epoch 9/10, Loss: 9.301736281486228e-05\n",
      "Epoch 10/10, Loss: 1.83595075213816e-05\n"
     ]
    },
    {
     "data": {
      "image/png": "[encoded data removed]",
      "text/plain": [
       "<Figure size 640x480 with 1 Axes>"
      ]
     },
     "metadata": {},
     "output_type": "display_data"
    },
    {
     "name": "stdout",
     "output_type": "stream",
     "text": [
      "Epoch 1/10, Loss: 2.8120941351517104e-05\n",
      "Epoch 2/10, Loss: 3.9205868233693764e-05\n",
      "Epoch 3/10, Loss: 0.0008501693955622613\n",
      "Epoch 4/10, Loss: 0.00016960277571342885\n",
      "Epoch 5/10, Loss: 4.2508105252636597e-05\n",
      "Epoch 6/10, Loss: 0.00014954824291635305\n",
      "Epoch 7/10, Loss: 4.4010012061335146e-05\n",
      "Epoch 8/10, Loss: 1.5942376194288954e-05\n",
      "Epoch 9/10, Loss: 3.0450833946815692e-05\n",
      "Epoch 10/10, Loss: 5.9891585806326475e-06\n"
     ]
    },
    {
     "data": {
      "image/png": "[encoded data removed]",
      "text/plain": [
       "<Figure size 640x480 with 1 Axes>"
      ]
     },
     "metadata": {},
     "output_type": "display_data"
    },
    {
     "name": "stdout",
     "output_type": "stream",
     "text": [
      "Epoch 1/10, Loss: 2.2260224795900285e-05\n",
      "Epoch 2/10, Loss: 6.7625027440954e-05\n",
      "Epoch 3/10, Loss: 0.00017294871213380247\n",
      "Epoch 4/10, Loss: 0.0001271262881346047\n",
      "Epoch 5/10, Loss: 7.442031346727163e-06\n",
      "Epoch 6/10, Loss: 4.1035422327695414e-05\n",
      "Epoch 7/10, Loss: 5.479779065353796e-05\n",
      "Epoch 8/10, Loss: 2.8916159863001667e-05\n",
      "Epoch 9/10, Loss: 0.0012127163354307413\n",
      "Epoch 10/10, Loss: 9.059812146006152e-05\n"
     ]
    },
    {
     "data": {
      "image/png": "[encoded data removed]",
      "text/plain": [
       "<Figure size 640x480 with 1 Axes>"
      ]
     },
     "metadata": {},
     "output_type": "display_data"
    }
   ],
   "source": [
    "import torch.optim as optim\n",
    "\n",
    "def train_model(model, train_loader, criterion, optimizer, num_epochs=10):\n",
    "    xt = [0]\n",
    "    yt = [0]\n",
    "    model.train()\n",
    "    for epoch in range(num_epochs):\n",
    "        for inputs, targets in train_loader:\n",
    "            optimizer.zero_grad()\n",
    "            outputs = model(inputs)\n",
    "            loss = criterion(outputs, targets)\n",
    "            loss.backward()\n",
    "            optimizer.step()\n",
    "        xt.append(epoch+1)\n",
    "        yt.append(loss.item())\n",
    "        print(f'Epoch {epoch+1}/{num_epochs}, Loss: {loss.item()}')\n",
    "    \n",
    "    xt = np.array(xt)\n",
    "    yt = np.array(yt)\n",
    "    plt.plot(xt,yt)\n",
    "    plt.xlabel(\"Epochs\")\n",
    "    plt.ylabel(\"Avg_Epoch per Epoch\")\n",
    "    plt.title(\"Epoch vs Loss Plot\")\n",
    "    plt.show()\n",
    "\n",
    "# Define loss function and optimizer\n",
    "criterion = nn.MSELoss()\n",
    "rnn_optimizer = optim.Adam(rnn_model.parameters(), lr=0.001)\n",
    "lstm_optimizer = optim.Adam(lstm_model.parameters(), lr=0.001)\n",
    "gru_optimizer = optim.Adam(gru_model.parameters(), lr=0.001)\n",
    "\n",
    "# Train the models\n",
    "train_model(rnn_model, train_loader, criterion, rnn_optimizer, num_epochs=10)\n",
    "train_model(lstm_model, train_loader, criterion, lstm_optimizer, num_epochs=10)\n",
    "train_model(gru_model, train_loader, criterion, gru_optimizer, num_epochs=10)\n"
   ]
  },
  {
   "cell_type": "code",
   "execution_count": 74,
   "metadata": {},
   "outputs": [
    {
     "name": "stdout",
     "output_type": "stream",
     "text": [
      "RNN Loss: 0.00031958741592301405\n",
      "LSTM Loss: 0.00018736348270633748\n",
      "GRU Loss: 0.0003140369713264006\n"
     ]
    }
   ],
   "source": [
    "def evaluate_model(model, test_loader, criterion):\n",
    "    model.eval()\n",
    "    total_loss = 0\n",
    "    with torch.no_grad():\n",
    "        for inputs, targets in test_loader:\n",
    "            outputs = model(inputs)\n",
    "            loss = criterion(outputs, targets)\n",
    "            total_loss += loss.item()\n",
    "    avg_loss = total_loss / len(test_loader)\n",
    "    return avg_loss\n",
    "\n",
    "# Evaluate the models\n",
    "rnn_loss = evaluate_model(rnn_model, test_loader, criterion)\n",
    "lstm_loss = evaluate_model(lstm_model, test_loader, criterion)\n",
    "gru_loss = evaluate_model(gru_model, test_loader, criterion)\n",
    "\n",
    "print(f'RNN Loss: {rnn_loss}')\n",
    "print(f'LSTM Loss: {lstm_loss}')\n",
    "print(f'GRU Loss: {gru_loss}')\n",
    "\n",
    "# Make predictions\n",
    "def make_predictions(model, test_loader):\n",
    "    model.eval()\n",
    "    predictions = []\n",
    "    with torch.no_grad():\n",
    "        for inputs, _ in test_loader:\n",
    "            outputs = model(inputs)\n",
    "            predictions.append(outputs.cpu().numpy())\n",
    "    return np.concatenate(predictions)\n",
    "\n",
    "rnn_predictions = make_predictions(rnn_model, test_loader)\n",
    "lstm_predictions = make_predictions(lstm_model, test_loader)\n",
    "gru_predictions = make_predictions(gru_model, test_loader)\n"
   ]
  },
  {
   "cell_type": "code",
   "execution_count": null,
   "metadata": {},
   "outputs": [],
   "source": []
  }
 ],
 "metadata": {
  "kernelspec": {
   "display_name": ".myenv",
   "language": "python",
   "name": "python3"
  },
  "language_info": {
   "codemirror_mode": {
    "name": "ipython",
    "version": 3
   },
   "file_extension": ".py",
   "mimetype": "text/x-python",
   "name": "python",
   "nbconvert_exporter": "python",
   "pygments_lexer": "ipython3",
   "version": "3.10.12"
  }
 },
 "nbformat": 4,
 "nbformat_minor": 2
}
