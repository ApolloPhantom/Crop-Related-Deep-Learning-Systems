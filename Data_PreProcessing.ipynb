{
 "cells": [
  {
   "cell_type": "code",
   "execution_count": 1,
   "metadata": {},
   "outputs": [],
   "source": [
    "import seaborn as sns\n",
    "import pandas as pd\n",
    "import matplotlib.pyplot as plt\n",
    "import numpy as np"
   ]
  },
  {
   "cell_type": "code",
   "execution_count": 2,
   "metadata": {},
   "outputs": [
    {
     "name": "stdout",
     "output_type": "stream",
     "text": [
      "<class 'pandas.core.frame.DataFrame'>\n",
      "RangeIndex: 99849 entries, 0 to 99848\n",
      "Data columns (total 13 columns):\n",
      " #   Column              Non-Null Count  Dtype  \n",
      "---  ------              --------------  -----  \n",
      " 0   Unnamed: 0          99849 non-null  int64  \n",
      " 1   State_Name          99849 non-null  object \n",
      " 2   Crop_Type           99849 non-null  object \n",
      " 3   Crop                99849 non-null  object \n",
      " 4   N                   99849 non-null  int64  \n",
      " 5   P                   99849 non-null  int64  \n",
      " 6   K                   99849 non-null  int64  \n",
      " 7   pH                  99849 non-null  float64\n",
      " 8   rainfall            99849 non-null  float64\n",
      " 9   temperature         99849 non-null  float64\n",
      " 10  Area_in_hectares    99849 non-null  float64\n",
      " 11  Production_in_tons  99849 non-null  float64\n",
      " 12  Yield_ton_per_hec   99849 non-null  float64\n",
      "dtypes: float64(6), int64(4), object(3)\n",
      "memory usage: 9.9+ MB\n",
      "<class 'pandas.core.frame.DataFrame'>\n",
      "RangeIndex: 345407 entries, 0 to 345406\n",
      "Data columns (total 10 columns):\n",
      " #   Column            Non-Null Count   Dtype  \n",
      "---  ------            --------------   -----  \n",
      " 0   State             345407 non-null  object \n",
      " 1   District          345407 non-null  object \n",
      " 2   Crop              345375 non-null  object \n",
      " 3   Year              345407 non-null  object \n",
      " 4   Season            345406 non-null  object \n",
      " 5   Area              345374 non-null  float64\n",
      " 6   Area Units        345407 non-null  object \n",
      " 7   Production        340414 non-null  float64\n",
      " 8   Production Units  345407 non-null  object \n",
      " 9   Yield             345374 non-null  float64\n",
      "dtypes: float64(3), object(7)\n",
      "memory usage: 26.4+ MB\n"
     ]
    }
   ],
   "source": [
    "df1 = pd.read_csv(\"Data/Crop_production 2.csv\")\n",
    "df1.info()\n",
    "df2 = pd.read_csv(\"Data/India Agriculture Crop Production.csv\")\n",
    "df2.info()"
   ]
  },
  {
   "cell_type": "code",
   "execution_count": 3,
   "metadata": {},
   "outputs": [
    {
     "data": {
      "text/plain": [
       "State                  0\n",
       "District               0\n",
       "Crop                  32\n",
       "Year                   0\n",
       "Season                 1\n",
       "Area                  33\n",
       "Area Units             0\n",
       "Production          4993\n",
       "Production Units       0\n",
       "Yield                 33\n",
       "dtype: int64"
      ]
     },
     "execution_count": 3,
     "metadata": {},
     "output_type": "execute_result"
    }
   ],
   "source": [
    "df2.isnull().sum()"
   ]
  },
  {
   "cell_type": "code",
   "execution_count": 4,
   "metadata": {},
   "outputs": [
    {
     "name": "stdout",
     "output_type": "stream",
     "text": [
      "<class 'pandas.core.frame.DataFrame'>\n",
      "Index: 340414 entries, 0 to 345374\n",
      "Data columns (total 10 columns):\n",
      " #   Column            Non-Null Count   Dtype  \n",
      "---  ------            --------------   -----  \n",
      " 0   State             340414 non-null  object \n",
      " 1   District          340414 non-null  object \n",
      " 2   Crop              340414 non-null  object \n",
      " 3   Year              340414 non-null  int32  \n",
      " 4   Season            340414 non-null  object \n",
      " 5   Area              340414 non-null  float64\n",
      " 6   Area Units        340414 non-null  object \n",
      " 7   Production        340414 non-null  float64\n",
      " 8   Production Units  340414 non-null  object \n",
      " 9   Yield             340414 non-null  float64\n",
      "dtypes: float64(3), int32(1), object(6)\n",
      "memory usage: 27.3+ MB\n"
     ]
    },
    {
     "data": {
      "text/html": [
       "<div>\n",
       "<style scoped>\n",
       "    .dataframe tbody tr th:only-of-type {\n",
       "        vertical-align: middle;\n",
       "    }\n",
       "\n",
       "    .dataframe tbody tr th {\n",
       "        vertical-align: top;\n",
       "    }\n",
       "\n",
       "    .dataframe thead th {\n",
       "        text-align: right;\n",
       "    }\n",
       "</style>\n",
       "<table border=\"1\" class=\"dataframe\">\n",
       "  <thead>\n",
       "    <tr style=\"text-align: right;\">\n",
       "      <th></th>\n",
       "      <th>State</th>\n",
       "      <th>District</th>\n",
       "      <th>Crop</th>\n",
       "      <th>Year</th>\n",
       "      <th>Season</th>\n",
       "      <th>Area</th>\n",
       "      <th>Area Units</th>\n",
       "      <th>Production</th>\n",
       "      <th>Production Units</th>\n",
       "      <th>Yield</th>\n",
       "    </tr>\n",
       "  </thead>\n",
       "  <tbody>\n",
       "    <tr>\n",
       "      <th>0</th>\n",
       "      <td>andaman and nicobar islands</td>\n",
       "      <td>nicobars</td>\n",
       "      <td>arecanut</td>\n",
       "      <td>2001</td>\n",
       "      <td>kharif</td>\n",
       "      <td>1254.0</td>\n",
       "      <td>Hectare</td>\n",
       "      <td>2061.0</td>\n",
       "      <td>Tonnes</td>\n",
       "      <td>1.643541</td>\n",
       "    </tr>\n",
       "    <tr>\n",
       "      <th>1</th>\n",
       "      <td>andaman and nicobar islands</td>\n",
       "      <td>nicobars</td>\n",
       "      <td>arecanut</td>\n",
       "      <td>2002</td>\n",
       "      <td>whole year</td>\n",
       "      <td>1258.0</td>\n",
       "      <td>Hectare</td>\n",
       "      <td>2083.0</td>\n",
       "      <td>Tonnes</td>\n",
       "      <td>1.655803</td>\n",
       "    </tr>\n",
       "    <tr>\n",
       "      <th>2</th>\n",
       "      <td>andaman and nicobar islands</td>\n",
       "      <td>nicobars</td>\n",
       "      <td>arecanut</td>\n",
       "      <td>2003</td>\n",
       "      <td>whole year</td>\n",
       "      <td>1261.0</td>\n",
       "      <td>Hectare</td>\n",
       "      <td>1525.0</td>\n",
       "      <td>Tonnes</td>\n",
       "      <td>1.209358</td>\n",
       "    </tr>\n",
       "    <tr>\n",
       "      <th>3</th>\n",
       "      <td>andaman and nicobar islands</td>\n",
       "      <td>north and middle andaman</td>\n",
       "      <td>arecanut</td>\n",
       "      <td>2001</td>\n",
       "      <td>kharif</td>\n",
       "      <td>3100.0</td>\n",
       "      <td>Hectare</td>\n",
       "      <td>5239.0</td>\n",
       "      <td>Tonnes</td>\n",
       "      <td>1.690000</td>\n",
       "    </tr>\n",
       "    <tr>\n",
       "      <th>4</th>\n",
       "      <td>andaman and nicobar islands</td>\n",
       "      <td>south andamans</td>\n",
       "      <td>arecanut</td>\n",
       "      <td>2002</td>\n",
       "      <td>whole year</td>\n",
       "      <td>3105.0</td>\n",
       "      <td>Hectare</td>\n",
       "      <td>5267.0</td>\n",
       "      <td>Tonnes</td>\n",
       "      <td>1.696296</td>\n",
       "    </tr>\n",
       "  </tbody>\n",
       "</table>\n",
       "</div>"
      ],
      "text/plain": [
       "                         State                  District      Crop  Year  \\\n",
       "0  andaman and nicobar islands                  nicobars  arecanut  2001   \n",
       "1  andaman and nicobar islands                  nicobars  arecanut  2002   \n",
       "2  andaman and nicobar islands                  nicobars  arecanut  2003   \n",
       "3  andaman and nicobar islands  north and middle andaman  arecanut  2001   \n",
       "4  andaman and nicobar islands            south andamans  arecanut  2002   \n",
       "\n",
       "       Season    Area Area Units  Production Production Units     Yield  \n",
       "0      kharif  1254.0    Hectare      2061.0           Tonnes  1.643541  \n",
       "1  whole year  1258.0    Hectare      2083.0           Tonnes  1.655803  \n",
       "2  whole year  1261.0    Hectare      1525.0           Tonnes  1.209358  \n",
       "3      kharif  3100.0    Hectare      5239.0           Tonnes  1.690000  \n",
       "4  whole year  3105.0    Hectare      5267.0           Tonnes  1.696296  "
      ]
     },
     "execution_count": 4,
     "metadata": {},
     "output_type": "execute_result"
    }
   ],
   "source": [
    "#Initial Cleaning of Temporal Data\n",
    "df2 = df2.dropna(subset=['Season'])\n",
    "df2 = df2.dropna(subset=['Crop'])\n",
    "df2 = df2.dropna(subset=['Area'])\n",
    "df2 = df2.dropna(subset=['Production'])\n",
    "df2 = df2.dropna(subset=['Yield'])\n",
    "df2[\"Crop\"] = df2[\"Crop\"].str.strip().str.lower()\n",
    "df2[\"Season\"] = df2[\"Season\"].str.strip().str.lower()\n",
    "df2[\"State\"] = df2[\"State\"].str.strip().str.lower()\n",
    "df2[\"District\"] = df2[\"District\"].str.strip().str.lower()\n",
    "df2[\"Year\"] = df2[\"Year\"].str[:4].astype(int)\n",
    "df2.info()\n",
    "df2.head()"
   ]
  },
  {
   "cell_type": "code",
   "execution_count": 5,
   "metadata": {},
   "outputs": [
    {
     "name": "stdout",
     "output_type": "stream",
     "text": [
      "<class 'pandas.core.frame.DataFrame'>\n",
      "RangeIndex: 99849 entries, 0 to 99848\n",
      "Data columns (total 11 columns):\n",
      " #   Column              Non-Null Count  Dtype  \n",
      "---  ------              --------------  -----  \n",
      " 0   State_Name          99849 non-null  object \n",
      " 1   Crop_Type           99849 non-null  object \n",
      " 2   Crop                99849 non-null  object \n",
      " 3   N                   99849 non-null  int64  \n",
      " 4   P                   99849 non-null  int64  \n",
      " 5   K                   99849 non-null  int64  \n",
      " 6   pH                  99849 non-null  float64\n",
      " 7   rainfall            99849 non-null  float64\n",
      " 8   temperature         99849 non-null  float64\n",
      " 9   Area_in_hectares    99849 non-null  float64\n",
      " 10  Production_in_tons  99849 non-null  float64\n",
      "dtypes: float64(5), int64(3), object(3)\n",
      "memory usage: 8.4+ MB\n"
     ]
    },
    {
     "data": {
      "text/html": [
       "<div>\n",
       "<style scoped>\n",
       "    .dataframe tbody tr th:only-of-type {\n",
       "        vertical-align: middle;\n",
       "    }\n",
       "\n",
       "    .dataframe tbody tr th {\n",
       "        vertical-align: top;\n",
       "    }\n",
       "\n",
       "    .dataframe thead th {\n",
       "        text-align: right;\n",
       "    }\n",
       "</style>\n",
       "<table border=\"1\" class=\"dataframe\">\n",
       "  <thead>\n",
       "    <tr style=\"text-align: right;\">\n",
       "      <th></th>\n",
       "      <th>State_Name</th>\n",
       "      <th>Crop_Type</th>\n",
       "      <th>Crop</th>\n",
       "      <th>N</th>\n",
       "      <th>P</th>\n",
       "      <th>K</th>\n",
       "      <th>pH</th>\n",
       "      <th>rainfall</th>\n",
       "      <th>temperature</th>\n",
       "      <th>Area_in_hectares</th>\n",
       "      <th>Production_in_tons</th>\n",
       "    </tr>\n",
       "  </thead>\n",
       "  <tbody>\n",
       "    <tr>\n",
       "      <th>0</th>\n",
       "      <td>andhra pradesh</td>\n",
       "      <td>kharif</td>\n",
       "      <td>cotton</td>\n",
       "      <td>120</td>\n",
       "      <td>40</td>\n",
       "      <td>20</td>\n",
       "      <td>5.46</td>\n",
       "      <td>654.34</td>\n",
       "      <td>29.266667</td>\n",
       "      <td>7300.0</td>\n",
       "      <td>9400.0</td>\n",
       "    </tr>\n",
       "    <tr>\n",
       "      <th>1</th>\n",
       "      <td>andhra pradesh</td>\n",
       "      <td>kharif</td>\n",
       "      <td>horsegram</td>\n",
       "      <td>20</td>\n",
       "      <td>60</td>\n",
       "      <td>20</td>\n",
       "      <td>6.18</td>\n",
       "      <td>654.34</td>\n",
       "      <td>29.266667</td>\n",
       "      <td>3300.0</td>\n",
       "      <td>1000.0</td>\n",
       "    </tr>\n",
       "    <tr>\n",
       "      <th>2</th>\n",
       "      <td>andhra pradesh</td>\n",
       "      <td>kharif</td>\n",
       "      <td>jowar</td>\n",
       "      <td>80</td>\n",
       "      <td>40</td>\n",
       "      <td>40</td>\n",
       "      <td>5.42</td>\n",
       "      <td>654.34</td>\n",
       "      <td>29.266667</td>\n",
       "      <td>10100.0</td>\n",
       "      <td>10200.0</td>\n",
       "    </tr>\n",
       "    <tr>\n",
       "      <th>3</th>\n",
       "      <td>andhra pradesh</td>\n",
       "      <td>kharif</td>\n",
       "      <td>maize</td>\n",
       "      <td>80</td>\n",
       "      <td>40</td>\n",
       "      <td>20</td>\n",
       "      <td>5.62</td>\n",
       "      <td>654.34</td>\n",
       "      <td>29.266667</td>\n",
       "      <td>2800.0</td>\n",
       "      <td>4900.0</td>\n",
       "    </tr>\n",
       "    <tr>\n",
       "      <th>4</th>\n",
       "      <td>andhra pradesh</td>\n",
       "      <td>kharif</td>\n",
       "      <td>moong</td>\n",
       "      <td>20</td>\n",
       "      <td>40</td>\n",
       "      <td>20</td>\n",
       "      <td>5.68</td>\n",
       "      <td>654.34</td>\n",
       "      <td>29.266667</td>\n",
       "      <td>1300.0</td>\n",
       "      <td>500.0</td>\n",
       "    </tr>\n",
       "  </tbody>\n",
       "</table>\n",
       "</div>"
      ],
      "text/plain": [
       "       State_Name Crop_Type       Crop    N   P   K    pH  rainfall  \\\n",
       "0  andhra pradesh    kharif     cotton  120  40  20  5.46    654.34   \n",
       "1  andhra pradesh    kharif  horsegram   20  60  20  6.18    654.34   \n",
       "2  andhra pradesh    kharif      jowar   80  40  40  5.42    654.34   \n",
       "3  andhra pradesh    kharif      maize   80  40  20  5.62    654.34   \n",
       "4  andhra pradesh    kharif      moong   20  40  20  5.68    654.34   \n",
       "\n",
       "   temperature  Area_in_hectares  Production_in_tons  \n",
       "0    29.266667            7300.0              9400.0  \n",
       "1    29.266667            3300.0              1000.0  \n",
       "2    29.266667           10100.0             10200.0  \n",
       "3    29.266667            2800.0              4900.0  \n",
       "4    29.266667            1300.0               500.0  "
      ]
     },
     "execution_count": 5,
     "metadata": {},
     "output_type": "execute_result"
    }
   ],
   "source": [
    "df1 = df1.drop([\"Unnamed: 0\",\"Yield_ton_per_hec\"],axis=1)\n",
    "df1[\"State_Name\"] = df1[\"State_Name\"].str.strip().str.lower()\n",
    "df1[\"Crop_Type\"] = df1[\"Crop_Type\"].str.strip().str.lower()\n",
    "df1[\"Crop\"] = df1[\"Crop\"].str.strip().str.lower()\n",
    "df1.info()\n",
    "df1.head()"
   ]
  },
  {
   "cell_type": "code",
   "execution_count": 6,
   "metadata": {},
   "outputs": [
    {
     "name": "stdout",
     "output_type": "stream",
     "text": [
      "['kharif' 'rabi' 'summer' 'whole year']\n",
      "['kharif' 'whole year' 'rabi' 'autumn' 'summer' 'winter']\n"
     ]
    }
   ],
   "source": [
    "print(df1[\"Crop_Type\"].unique())\n",
    "print(df2[\"Season\"].unique())"
   ]
  },
  {
   "cell_type": "code",
   "execution_count": 7,
   "metadata": {},
   "outputs": [
    {
     "name": "stdout",
     "output_type": "stream",
     "text": [
      "['andhra pradesh' 'arunachal pradesh' 'assam' 'bihar' 'goa' 'gujarat'\n",
      " 'haryana' 'jammu and kashmir' 'karnataka' 'kerala' 'madhya pradesh'\n",
      " 'maharashtra' 'manipur' 'meghalaya' 'mizoram' 'nagaland' 'odisha'\n",
      " 'punjab' 'rajasthan' 'tamil nadu' 'telangana' 'uttar pradesh'\n",
      " 'west bengal' 'chandigarh' 'dadra and nagar haveli' 'himachal pradesh'\n",
      " 'puducherry' 'sikkim' 'tripura' 'andaman and nicobar islands'\n",
      " 'chhattisgarh' 'uttarakhand' 'jharkhand']\n",
      "['andaman and nicobar islands' 'andhra pradesh' 'arunachal pradesh'\n",
      " 'assam' 'bihar' 'chandigarh' 'chhattisgarh' 'dadra and nagar haveli'\n",
      " 'daman and diu' 'delhi' 'goa' 'gujarat' 'haryana' 'himachal pradesh'\n",
      " 'jammu and kashmir' 'jharkhand' 'karnataka' 'kerala' 'madhya pradesh'\n",
      " 'maharashtra' 'manipur' 'meghalaya' 'mizoram' 'nagaland' 'odisha'\n",
      " 'puducherry' 'punjab' 'rajasthan' 'sikkim' 'tamil nadu' 'tripura'\n",
      " 'uttar pradesh' 'uttarakhand' 'west bengal' 'telangana' 'laddakh']\n"
     ]
    }
   ],
   "source": [
    "c2 = df2[\"State\"].unique()\n",
    "c1 = df1[\"State_Name\"].unique()\n",
    "c1 = np.array(c1)\n",
    "c2 = np.array(c2)\n",
    "print(c1)\n",
    "print(c2)"
   ]
  },
  {
   "cell_type": "code",
   "execution_count": 8,
   "metadata": {},
   "outputs": [
    {
     "name": "stdout",
     "output_type": "stream",
     "text": [
      "Common ['haryana' 'assam' 'telangana' 'maharashtra' 'chhattisgarh' 'kerala'\n",
      " 'rajasthan' 'karnataka' 'odisha' 'uttarakhand' 'andhra pradesh'\n",
      " 'jharkhand' 'arunachal pradesh' 'jammu and kashmir' 'tamil nadu'\n",
      " 'madhya pradesh' 'himachal pradesh' 'mizoram' 'sikkim' 'nagaland'\n",
      " 'chandigarh' 'tripura' 'andaman and nicobar islands' 'punjab'\n",
      " 'puducherry' 'manipur' 'west bengal' 'uttar pradesh' 'bihar' 'gujarat'\n",
      " 'meghalaya' 'goa' 'dadra and nagar haveli']\n",
      "Uncommon from c1 []\n",
      "Uncommon from c2 ['laddakh' 'delhi' 'daman and diu']\n"
     ]
    }
   ],
   "source": [
    "C = []\n",
    "UC1 = []\n",
    "UC2 = []\n",
    "for i in c1:\n",
    "    if i in c2:\n",
    "        C.append(i)\n",
    "    else:\n",
    "        UC1.append(i)\n",
    "for i in c2:\n",
    "    if i in c1:\n",
    "        C.append(i)\n",
    "    else:\n",
    "        UC2.append(i)\n",
    "\n",
    "C = np.array(list(set(C)))\n",
    "UC1 = np.array(list(set(UC1)))\n",
    "UC2 = np.array(list(set(UC2)))\n",
    "print(\"Common\",C)\n",
    "print(\"Uncommon from c1\",UC1)\n",
    "print(\"Uncommon from c2\",UC2)"
   ]
  },
  {
   "cell_type": "code",
   "execution_count": 9,
   "metadata": {},
   "outputs": [],
   "source": [
    "df2[\"State\"] = df2[\"State\"].str.replace(\"laddakh\",\"jammu and kashmir\")\n",
    "df2[\"State\"] = df2[\"State\"].str.replace(\"delhi\",\"haryana\")\n",
    "df2[\"State\"] = df2[\"State\"].str.replace(\"daman and diu\",\"gujarat\")"
   ]
  },
  {
   "cell_type": "code",
   "execution_count": 10,
   "metadata": {},
   "outputs": [
    {
     "name": "stdout",
     "output_type": "stream",
     "text": [
      "Common ['haryana' 'assam' 'telangana' 'maharashtra' 'chhattisgarh' 'kerala'\n",
      " 'rajasthan' 'karnataka' 'odisha' 'uttarakhand' 'andhra pradesh'\n",
      " 'jharkhand' 'arunachal pradesh' 'jammu and kashmir' 'tamil nadu'\n",
      " 'madhya pradesh' 'himachal pradesh' 'mizoram' 'sikkim' 'nagaland'\n",
      " 'chandigarh' 'tripura' 'andaman and nicobar islands' 'punjab'\n",
      " 'puducherry' 'manipur' 'west bengal' 'uttar pradesh' 'bihar' 'gujarat'\n",
      " 'meghalaya' 'goa' 'dadra and nagar haveli']\n",
      "Uncommon from c1 []\n",
      "Uncommon from c2 []\n"
     ]
    }
   ],
   "source": [
    "c2 = df2[\"State\"].unique()\n",
    "c1 = df1[\"State_Name\"].unique()\n",
    "c1 = np.array(c1)\n",
    "c2 = np.array(c2)\n",
    "C = []\n",
    "UC1 = []\n",
    "UC2 = []\n",
    "for i in c1:\n",
    "    if i in c2:\n",
    "        C.append(i)\n",
    "    else:\n",
    "        UC1.append(i)\n",
    "for i in c2:\n",
    "    if i in c1:\n",
    "        C.append(i)\n",
    "    else:\n",
    "        UC2.append(i)\n",
    "\n",
    "C = np.array(list(set(C)))\n",
    "UC1 = np.array(list(set(UC1)))\n",
    "UC2 = np.array(list(set(UC2)))\n",
    "print(\"Common\",C)\n",
    "print(\"Uncommon from c1\",UC1)\n",
    "print(\"Uncommon from c2\",UC2)"
   ]
  },
  {
   "cell_type": "code",
   "execution_count": 11,
   "metadata": {},
   "outputs": [
    {
     "name": "stdout",
     "output_type": "stream",
     "text": [
      "['cotton' 'horsegram' 'jowar' 'maize' 'moong' 'ragi' 'rice' 'sunflower'\n",
      " 'wheat' 'sesamum' 'soyabean' 'rapeseed' 'jute' 'arecanut' 'onion'\n",
      " 'potato' 'sweetpotato' 'tapioca' 'turmeric' 'barley' 'banana' 'coriander'\n",
      " 'garlic' 'blackpepper' 'cardamom' 'cashewnuts' 'blackgram' 'coffee'\n",
      " 'ladyfinger' 'brinjal' 'cucumber' 'grapes' 'mango' 'orange' 'papaya'\n",
      " 'tomato' 'cabbage' 'bottlegourd' 'pineapple' 'carrot' 'radish'\n",
      " 'bittergourd' 'drumstick' 'jackfruit' 'cauliflower' 'watermelon'\n",
      " 'ashgourd' 'beetroot' 'pomegranate' 'ridgegourd' 'pumpkin' 'apple'\n",
      " 'ginger']\n",
      "['arecanut' 'banana' 'black pepper' 'cashewnut' 'coconut' 'dry chillies'\n",
      " 'ginger' 'other kharif pulses' 'other oilseeds' 'rice' 'sugarcane'\n",
      " 'sweet potato' 'arhar/tur' 'bajra' 'castor seed' 'coriander'\n",
      " 'cotton(lint)' 'gram' 'groundnut' 'horse-gram' 'jowar' 'linseed' 'maize'\n",
      " 'mesta' 'moong(green gram)' 'niger seed' 'onion' 'other rabi pulses'\n",
      " 'potato' 'ragi' 'rapeseed &mustard' 'safflower' 'sesamum' 'small millets'\n",
      " 'soyabean' 'sunflower' 'tapioca' 'tobacco' 'turmeric' 'urad' 'wheat'\n",
      " 'oilseeds total' 'jute' 'masoor' 'peas & beans (pulses)' 'barley'\n",
      " 'garlic' 'khesari' 'sannhamp' 'guar seed' 'moth' 'cardamom'\n",
      " 'other cereals' 'cowpea(lobia)' 'dry ginger' 'other summer pulses']\n"
     ]
    }
   ],
   "source": [
    "c2 = df2[\"Crop\"].unique()\n",
    "c1 = df1[\"Crop\"].unique()\n",
    "c1 = np.array(c1)\n",
    "c2 = np.array(c2)\n",
    "print(c1)\n",
    "print(c2)"
   ]
  },
  {
   "cell_type": "code",
   "execution_count": 12,
   "metadata": {},
   "outputs": [
    {
     "name": "stdout",
     "output_type": "stream",
     "text": [
      "Common ['turmeric' 'ginger' 'maize' 'sesamum' 'tapioca' 'soyabean' 'arecanut'\n",
      " 'onion' 'banana' 'cardamom' 'rice' 'potato' 'ragi' 'garlic' 'jowar'\n",
      " 'barley' 'wheat' 'sunflower' 'jute' 'coriander']\n",
      "Uncommon from c1 ['ashgourd' 'ridgegourd' 'papaya' 'watermelon' 'sweetpotato' 'horsegram'\n",
      " 'ladyfinger' 'cabbage' 'orange' 'cashewnuts' 'tomato' 'radish' 'moong'\n",
      " 'pineapple' 'bittergourd' 'carrot' 'drumstick' 'pomegranate' 'apple'\n",
      " 'blackpepper' 'grapes' 'coffee' 'cauliflower' 'cucumber' 'brinjal'\n",
      " 'rapeseed' 'pumpkin' 'beetroot' 'jackfruit' 'mango' 'blackgram' 'cotton'\n",
      " 'bottlegourd']\n",
      "Uncommon from c2 ['other oilseeds' 'bajra' 'coconut' 'rapeseed &mustard' 'tobacco' 'urad'\n",
      " 'small millets' 'cotton(lint)' 'other cereals' 'sweet potato'\n",
      " 'castor seed' 'moth' 'niger seed' 'guar seed' 'arhar/tur' 'dry chillies'\n",
      " 'groundnut' 'horse-gram' 'peas & beans (pulses)' 'dry ginger' 'mesta'\n",
      " 'oilseeds total' 'other kharif pulses' 'other summer pulses'\n",
      " 'moong(green gram)' 'other rabi pulses' 'khesari' 'cashewnut' 'linseed'\n",
      " 'safflower' 'sannhamp' 'cowpea(lobia)' 'sugarcane' 'black pepper' 'gram'\n",
      " 'masoor']\n"
     ]
    }
   ],
   "source": [
    "C = []\n",
    "UC1 = []\n",
    "UC2 = []\n",
    "for i in c1:\n",
    "    if i in c2:\n",
    "        C.append(i)\n",
    "    else:\n",
    "        UC1.append(i)\n",
    "for i in c2:\n",
    "    if i in c1:\n",
    "        C.append(i)\n",
    "    else:\n",
    "        UC2.append(i)\n",
    "\n",
    "C = np.array(list(set(C)))\n",
    "UC1 = np.array(list(set(UC1)))\n",
    "UC2 = np.array(list(set(UC2)))\n",
    "print(\"Common\",C)\n",
    "print(\"Uncommon from c1\",UC1)\n",
    "print(\"Uncommon from c2\",UC2)"
   ]
  },
  {
   "cell_type": "code",
   "execution_count": 13,
   "metadata": {},
   "outputs": [],
   "source": [
    "df1[\"Crop\"] = df1[\"Crop\"].str.replace(\"blackpepper\",\"black pepper\")\n",
    "df1[\"Crop\"] = df1[\"Crop\"].str.replace(\"horsegram\",\"horse-gram\")\n",
    "df1[\"Crop\"] = df1[\"Crop\"].str.replace(\"rapeseed\",\"rapeseed & mustard\")\n",
    "df2[\"Crop\"] = df2[\"Crop\"].str.replace(\"rapeseed &mustard\",\"rapeseed & mustard\")\n",
    "df2[\"Crop\"] = df2[\"Crop\"].str.replace(\"moong(green gram)\",\"moong\")\n",
    "df2[\"Crop\"] = df2[\"Crop\"].str.replace(\"cashewnut\",\"cashewnuts\")\n",
    "df2[\"Crop\"] = df2[\"Crop\"].str.replace(\"cotton(lint)\",\"cotton\")\n",
    "df2[\"Crop\"] = df2[\"Crop\"].str.replace(\"sweet potato\",\"sweetpotato\")\n",
    "df1[\"Crop\"] = df1[\"Crop\"].str.replace(\"blackgram\",\"other kharif pulses\")"
   ]
  },
  {
   "cell_type": "code",
   "execution_count": 14,
   "metadata": {},
   "outputs": [
    {
     "name": "stdout",
     "output_type": "stream",
     "text": [
      "Common ['turmeric' 'ginger' 'sweetpotato' 'maize' 'sesamum' 'cashewnuts'\n",
      " 'tapioca' 'soyabean' 'horse-gram' 'moong' 'arecanut' 'onion' 'banana'\n",
      " 'cardamom' 'rice' 'potato' 'ragi' 'garlic' 'other kharif pulses' 'jowar'\n",
      " 'barley' 'wheat' 'sunflower' 'rapeseed & mustard' 'black pepper' 'jute'\n",
      " 'cotton' 'coriander']\n",
      "Uncommon from c1 ['ashgourd' 'ridgegourd' 'papaya' 'watermelon' 'ladyfinger' 'cabbage'\n",
      " 'orange' 'tomato' 'radish' 'pineapple' 'bittergourd' 'carrot' 'drumstick'\n",
      " 'pomegranate' 'apple' 'grapes' 'coffee' 'cauliflower' 'cucumber'\n",
      " 'brinjal' 'pumpkin' 'beetroot' 'jackfruit' 'mango' 'bottlegourd']\n",
      "Uncommon from c2 ['other oilseeds' 'bajra' 'coconut' 'tobacco' 'urad' 'small millets'\n",
      " 'other cereals' 'castor seed' 'moth' 'niger seed' 'guar seed' 'arhar/tur'\n",
      " 'dry chillies' 'groundnut' 'peas & beans (pulses)' 'dry ginger' 'mesta'\n",
      " 'oilseeds total' 'other summer pulses' 'other rabi pulses' 'khesari'\n",
      " 'linseed' 'safflower' 'sannhamp' 'cowpea(lobia)' 'sugarcane' 'gram'\n",
      " 'masoor']\n"
     ]
    }
   ],
   "source": [
    "c2 = df2[\"Crop\"].unique()\n",
    "c1 = df1[\"Crop\"].unique()\n",
    "c1 = np.array(c1)\n",
    "c2 = np.array(c2)\n",
    "C = []\n",
    "UC1 = []\n",
    "UC2 = []\n",
    "for i in c1:\n",
    "    if i in c2:\n",
    "        C.append(i)\n",
    "    else:\n",
    "        UC1.append(i)\n",
    "for i in c2:\n",
    "    if i in c1:\n",
    "        C.append(i)\n",
    "    else:\n",
    "        UC2.append(i)\n",
    "\n",
    "C = np.array(list(set(C)))\n",
    "UC1 = np.array(list(set(UC1)))\n",
    "UC2 = np.array(list(set(UC2)))\n",
    "print(\"Common\",C)\n",
    "print(\"Uncommon from c1\",UC1)\n",
    "print(\"Uncommon from c2\",UC2)"
   ]
  },
  {
   "cell_type": "code",
   "execution_count": 15,
   "metadata": {},
   "outputs": [],
   "source": [
    "df2 = df2[df2[\"Crop\"].isin(C)]\n",
    "df1 = df1[df1[\"Crop\"].isin(C)]"
   ]
  },
  {
   "cell_type": "code",
   "execution_count": 16,
   "metadata": {},
   "outputs": [
    {
     "name": "stdout",
     "output_type": "stream",
     "text": [
      "<class 'pandas.core.frame.DataFrame'>\n",
      "Index: 97233 entries, 0 to 99848\n",
      "Data columns (total 11 columns):\n",
      " #   Column              Non-Null Count  Dtype  \n",
      "---  ------              --------------  -----  \n",
      " 0   State_Name          97233 non-null  object \n",
      " 1   Crop_Type           97233 non-null  object \n",
      " 2   Crop                97233 non-null  object \n",
      " 3   N                   97233 non-null  int64  \n",
      " 4   P                   97233 non-null  int64  \n",
      " 5   K                   97233 non-null  int64  \n",
      " 6   pH                  97233 non-null  float64\n",
      " 7   rainfall            97233 non-null  float64\n",
      " 8   temperature         97233 non-null  float64\n",
      " 9   Area_in_hectares    97233 non-null  float64\n",
      " 10  Production_in_tons  97233 non-null  float64\n",
      "dtypes: float64(5), int64(3), object(3)\n",
      "memory usage: 8.9+ MB\n",
      "<class 'pandas.core.frame.DataFrame'>\n",
      "Index: 203573 entries, 0 to 345374\n",
      "Data columns (total 10 columns):\n",
      " #   Column            Non-Null Count   Dtype  \n",
      "---  ------            --------------   -----  \n",
      " 0   State             203573 non-null  object \n",
      " 1   District          203573 non-null  object \n",
      " 2   Crop              203573 non-null  object \n",
      " 3   Year              203573 non-null  int32  \n",
      " 4   Season            203573 non-null  object \n",
      " 5   Area              203573 non-null  float64\n",
      " 6   Area Units        203573 non-null  object \n",
      " 7   Production        203573 non-null  float64\n",
      " 8   Production Units  203573 non-null  object \n",
      " 9   Yield             203573 non-null  float64\n",
      "dtypes: float64(3), int32(1), object(6)\n",
      "memory usage: 16.3+ MB\n"
     ]
    }
   ],
   "source": [
    "df1.info()\n",
    "df2.info()"
   ]
  },
  {
   "cell_type": "code",
   "execution_count": 17,
   "metadata": {},
   "outputs": [
    {
     "name": "stdout",
     "output_type": "stream",
     "text": [
      "['kharif' 'rabi' 'summer' 'whole year']\n",
      "['kharif' 'whole year' 'rabi' 'autumn' 'summer' 'winter']\n"
     ]
    }
   ],
   "source": [
    "print(df1[\"Crop_Type\"].unique())\n",
    "print(df2[\"Season\"].unique())"
   ]
  },
  {
   "cell_type": "code",
   "execution_count": 18,
   "metadata": {},
   "outputs": [
    {
     "name": "stdout",
     "output_type": "stream",
     "text": [
      "5962\n",
      "6745\n"
     ]
    }
   ],
   "source": [
    "print(sum(df2[\"Season\"] == 'autumn'))\n",
    "print(sum(df2[\"Season\"] == 'winter'))"
   ]
  },
  {
   "cell_type": "code",
   "execution_count": 19,
   "metadata": {},
   "outputs": [
    {
     "name": "stdout",
     "output_type": "stream",
     "text": [
      "<class 'pandas.core.frame.DataFrame'>\n",
      "Index: 190866 entries, 0 to 345374\n",
      "Data columns (total 10 columns):\n",
      " #   Column            Non-Null Count   Dtype  \n",
      "---  ------            --------------   -----  \n",
      " 0   State             190866 non-null  object \n",
      " 1   District          190866 non-null  object \n",
      " 2   Crop              190866 non-null  object \n",
      " 3   Year              190866 non-null  int32  \n",
      " 4   Season            190866 non-null  object \n",
      " 5   Area              190866 non-null  float64\n",
      " 6   Area Units        190866 non-null  object \n",
      " 7   Production        190866 non-null  float64\n",
      " 8   Production Units  190866 non-null  object \n",
      " 9   Yield             190866 non-null  float64\n",
      "dtypes: float64(3), int32(1), object(6)\n",
      "memory usage: 15.3+ MB\n"
     ]
    }
   ],
   "source": [
    "df2 = df2.drop(df2[df2[\"Season\"].isin([\"autumn\", \"winter\"])].index)\n",
    "df2.info()"
   ]
  },
  {
   "cell_type": "code",
   "execution_count": 20,
   "metadata": {},
   "outputs": [
    {
     "name": "stdout",
     "output_type": "stream",
     "text": [
      "Common ['turmeric' 'ginger' 'sweetpotato' 'maize' 'sesamum' 'cashewnuts'\n",
      " 'tapioca' 'soyabean' 'horse-gram' 'moong' 'arecanut' 'onion' 'banana'\n",
      " 'cardamom' 'rice' 'potato' 'ragi' 'garlic' 'other kharif pulses' 'jowar'\n",
      " 'barley' 'wheat' 'sunflower' 'rapeseed & mustard' 'black pepper' 'jute'\n",
      " 'cotton' 'coriander']\n",
      "Uncommon from c1 []\n",
      "Uncommon from c2 []\n"
     ]
    }
   ],
   "source": [
    "c2 = df2[\"Crop\"].unique()\n",
    "c1 = df1[\"Crop\"].unique()\n",
    "c1 = np.array(c1)\n",
    "c2 = np.array(c2)\n",
    "C = []\n",
    "UC1 = []\n",
    "UC2 = []\n",
    "for i in c1:\n",
    "    if i in c2:\n",
    "        C.append(i)\n",
    "    else:\n",
    "        UC1.append(i)\n",
    "for i in c2:\n",
    "    if i in c1:\n",
    "        C.append(i)\n",
    "    else:\n",
    "        UC2.append(i)\n",
    "\n",
    "C = np.array(list(set(C)))\n",
    "UC1 = np.array(list(set(UC1)))\n",
    "UC2 = np.array(list(set(UC2)))\n",
    "print(\"Common\",C)\n",
    "print(\"Uncommon from c1\",UC1)\n",
    "print(\"Uncommon from c2\",UC2)"
   ]
  },
  {
   "cell_type": "code",
   "execution_count": 21,
   "metadata": {},
   "outputs": [
    {
     "name": "stdout",
     "output_type": "stream",
     "text": [
      "<class 'pandas.core.frame.DataFrame'>\n",
      "Index: 97233 entries, 0 to 99848\n",
      "Data columns (total 11 columns):\n",
      " #   Column              Non-Null Count  Dtype  \n",
      "---  ------              --------------  -----  \n",
      " 0   State_Name          97233 non-null  object \n",
      " 1   Crop_Type           97233 non-null  object \n",
      " 2   Crop                97233 non-null  object \n",
      " 3   N                   97233 non-null  int64  \n",
      " 4   P                   97233 non-null  int64  \n",
      " 5   K                   97233 non-null  int64  \n",
      " 6   pH                  97233 non-null  float64\n",
      " 7   rainfall            97233 non-null  float64\n",
      " 8   temperature         97233 non-null  float64\n",
      " 9   Area_in_hectares    97233 non-null  float64\n",
      " 10  Production_in_tons  97233 non-null  float64\n",
      "dtypes: float64(5), int64(3), object(3)\n",
      "memory usage: 8.9+ MB\n",
      "<class 'pandas.core.frame.DataFrame'>\n",
      "Index: 190866 entries, 0 to 345374\n",
      "Data columns (total 10 columns):\n",
      " #   Column            Non-Null Count   Dtype  \n",
      "---  ------            --------------   -----  \n",
      " 0   State             190866 non-null  object \n",
      " 1   District          190866 non-null  object \n",
      " 2   Crop              190866 non-null  object \n",
      " 3   Year              190866 non-null  int32  \n",
      " 4   Season            190866 non-null  object \n",
      " 5   Area              190866 non-null  float64\n",
      " 6   Area Units        190866 non-null  object \n",
      " 7   Production        190866 non-null  float64\n",
      " 8   Production Units  190866 non-null  object \n",
      " 9   Yield             190866 non-null  float64\n",
      "dtypes: float64(3), int32(1), object(6)\n",
      "memory usage: 15.3+ MB\n"
     ]
    }
   ],
   "source": [
    "df1.info()\n",
    "df2.info()"
   ]
  },
  {
   "cell_type": "code",
   "execution_count": 22,
   "metadata": {},
   "outputs": [],
   "source": [
    "df1.to_csv(\"Data_Processed/Recommendation.csv\", index=False)\n",
    "df2.to_csv(\"Data_Processed/Prediction.csv\", index=False)"
   ]
  }
 ],
 "metadata": {
  "kernelspec": {
   "display_name": ".myenv",
   "language": "python",
   "name": "python3"
  },
  "language_info": {
   "codemirror_mode": {
    "name": "ipython",
    "version": 3
   },
   "file_extension": ".py",
   "mimetype": "text/x-python",
   "name": "python",
   "nbconvert_exporter": "python",
   "pygments_lexer": "ipython3",
   "version": "3.10.12"
  }
 },
 "nbformat": 4,
 "nbformat_minor": 2
}
