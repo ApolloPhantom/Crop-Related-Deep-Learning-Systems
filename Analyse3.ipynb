{
 "cells": [
  {
   "cell_type": "code",
   "execution_count": 8,
   "metadata": {},
   "outputs": [],
   "source": [
    "import pandas as pd\n",
    "import matplotlib.pyplot as plt\n",
    "import numpy as np\n",
    "import seaborn as sns"
   ]
  },
  {
   "cell_type": "code",
   "execution_count": 9,
   "metadata": {},
   "outputs": [
    {
     "name": "stdout",
     "output_type": "stream",
     "text": [
      "<class 'pandas.core.frame.DataFrame'>\n",
      "RangeIndex: 345407 entries, 0 to 345406\n",
      "Data columns (total 10 columns):\n",
      " #   Column            Non-Null Count   Dtype  \n",
      "---  ------            --------------   -----  \n",
      " 0   State             345407 non-null  object \n",
      " 1   District          345407 non-null  object \n",
      " 2   Crop              345375 non-null  object \n",
      " 3   Year              345407 non-null  object \n",
      " 4   Season            345406 non-null  object \n",
      " 5   Area              345374 non-null  float64\n",
      " 6   Area Units        345407 non-null  object \n",
      " 7   Production        340414 non-null  float64\n",
      " 8   Production Units  345407 non-null  object \n",
      " 9   Yield             345374 non-null  float64\n",
      "dtypes: float64(3), object(7)\n",
      "memory usage: 26.4+ MB\n"
     ]
    }
   ],
   "source": [
    "df1 = pd.read_csv(\"Data/India Agriculture Crop Production.csv\")\n",
    "df1.info()"
   ]
  },
  {
   "cell_type": "code",
   "execution_count": 10,
   "metadata": {},
   "outputs": [
    {
     "name": "stdout",
     "output_type": "stream",
     "text": [
      "State                   36\n",
      "District               729\n",
      "Crop                    56\n",
      "Year                    24\n",
      "Season                   6\n",
      "Area                 48006\n",
      "Area Units               1\n",
      "Production           69078\n",
      "Production Units         3\n",
      "Yield               197154\n",
      "dtype: int64\n",
      "['2001-02' '2002-03' '2003-04' '2004-05' '2005-06' '2006-07' '2007-08'\n",
      " '2008-09' '2009-10' '2010-11' '2011-12' '2012-13' '2013-14' '2014-15'\n",
      " '2015-16' '2016-17' '2017-18' '2018-19' '2019-20' '2020-21' '2000-01'\n",
      " '1997-98' '1998-99' '1999-00']\n"
     ]
    }
   ],
   "source": [
    "print(df1.nunique())\n",
    "print(df1[\"Year\"].unique())\n",
    "df1[\"Crop\"].unique()\n",
    "c1 = df1[\"Crop\"].unique()"
   ]
  },
  {
   "cell_type": "code",
   "execution_count": 11,
   "metadata": {},
   "outputs": [
    {
     "name": "stdout",
     "output_type": "stream",
     "text": [
      "[2001 2002 2003 2004 2005 2006 2007 2008 2009 2010 2011 2012 2013 2014\n",
      " 2015 2016 2017 2018 2019 2020 2000 1997 1998 1999]\n"
     ]
    }
   ],
   "source": [
    "df1['Year'] = df1['Year'].str.extract(r'(\\d+)', expand=False).astype(int)\n",
    "print(df1[\"Year\"].unique())"
   ]
  },
  {
   "cell_type": "code",
   "execution_count": 17,
   "metadata": {},
   "outputs": [
    {
     "name": "stdout",
     "output_type": "stream",
     "text": [
      "<class 'pandas.core.frame.DataFrame'>\n",
      "RangeIndex: 345407 entries, 0 to 345406\n",
      "Data columns (total 10 columns):\n",
      " #   Column            Non-Null Count   Dtype  \n",
      "---  ------            --------------   -----  \n",
      " 0   State             345407 non-null  object \n",
      " 1   District          345407 non-null  object \n",
      " 2   Crop              345375 non-null  object \n",
      " 3   Year              345407 non-null  int32  \n",
      " 4   Season            345406 non-null  object \n",
      " 5   Area              345374 non-null  float64\n",
      " 6   Area Units        345407 non-null  object \n",
      " 7   Production        340414 non-null  float64\n",
      " 8   Production Units  345407 non-null  object \n",
      " 9   Yield             345374 non-null  float64\n",
      "dtypes: float64(3), int32(1), object(6)\n",
      "memory usage: 25.0+ MB\n"
     ]
    }
   ],
   "source": [
    "df1.info()"
   ]
  },
  {
   "cell_type": "code",
   "execution_count": 20,
   "metadata": {},
   "outputs": [
    {
     "name": "stdout",
     "output_type": "stream",
     "text": [
      "['Andaman and Nicobar Islands' 'Andhra Pradesh' 'Arunachal Pradesh'\n",
      " 'Assam' 'Bihar' 'Chandigarh' 'Chhattisgarh' 'Dadra and Nagar Haveli'\n",
      " 'Daman and Diu' 'Delhi' 'Goa' 'Gujarat' 'Haryana' 'Himachal Pradesh'\n",
      " 'Jammu and Kashmir' 'Jharkhand' 'Karnataka' 'Kerala' 'Madhya Pradesh'\n",
      " 'Maharashtra' 'Manipur' 'Meghalaya' 'Mizoram' 'Nagaland' 'Odisha'\n",
      " 'Puducherry' 'Punjab' 'Rajasthan' 'Sikkim' 'Tamil Nadu' 'Tripura'\n",
      " 'Uttar Pradesh' 'Uttarakhand' 'West Bengal' 'Telangana' 'Laddakh']\n"
     ]
    }
   ],
   "source": [
    "s1 = df1[\"State\"].unique()\n",
    "print(s)"
   ]
  },
  {
   "cell_type": "code",
   "execution_count": 12,
   "metadata": {},
   "outputs": [
    {
     "name": "stdout",
     "output_type": "stream",
     "text": [
      "<class 'pandas.core.frame.DataFrame'>\n",
      "RangeIndex: 19689 entries, 0 to 19688\n",
      "Data columns (total 10 columns):\n",
      " #   Column           Non-Null Count  Dtype  \n",
      "---  ------           --------------  -----  \n",
      " 0   Crop             19689 non-null  object \n",
      " 1   Crop_Year        19689 non-null  int64  \n",
      " 2   Season           19689 non-null  object \n",
      " 3   State            19689 non-null  object \n",
      " 4   Area             19689 non-null  float64\n",
      " 5   Production       19689 non-null  int64  \n",
      " 6   Annual_Rainfall  19689 non-null  float64\n",
      " 7   Fertilizer       19689 non-null  float64\n",
      " 8   Pesticide        19689 non-null  float64\n",
      " 9   Yield            19689 non-null  float64\n",
      "dtypes: float64(5), int64(2), object(3)\n",
      "memory usage: 1.5+ MB\n"
     ]
    }
   ],
   "source": [
    "df2 = pd.read_csv(\"Data/crop_yield 3.csv\")  \n",
    "df2.info()"
   ]
  },
  {
   "cell_type": "code",
   "execution_count": 13,
   "metadata": {},
   "outputs": [
    {
     "name": "stdout",
     "output_type": "stream",
     "text": [
      "Crop                  55\n",
      "Crop_Year             24\n",
      "Season                 6\n",
      "State                 30\n",
      "Area               13644\n",
      "Production         14016\n",
      "Annual_Rainfall      634\n",
      "Fertilizer         18598\n",
      "Pesticide          17405\n",
      "Yield              13551\n",
      "dtype: int64\n",
      "[1997 1998 1999 2000 2001 2002 2003 2004 2005 2006 2007 2008 2009 2010\n",
      " 2011 2012 2013 2014 2015 2016 2017 2018 2019 2020]\n"
     ]
    }
   ],
   "source": [
    "print(df2.nunique())\n",
    "print(df2[\"Crop_Year\"].unique())\n",
    "df2[\"Crop\"].unique()\n",
    "c2 = df2[\"Crop\"].unique()"
   ]
  },
  {
   "cell_type": "code",
   "execution_count": 21,
   "metadata": {},
   "outputs": [
    {
     "name": "stdout",
     "output_type": "stream",
     "text": [
      "['Assam' 'Karnataka' 'Kerala' 'Meghalaya' 'West Bengal' 'Puducherry' 'Goa'\n",
      " 'Andhra Pradesh' 'Tamil Nadu' 'Odisha' 'Bihar' 'Gujarat' 'Madhya Pradesh'\n",
      " 'Maharashtra' 'Mizoram' 'Punjab' 'Uttar Pradesh' 'Haryana'\n",
      " 'Himachal Pradesh' 'Tripura' 'Nagaland' 'Chhattisgarh' 'Uttarakhand'\n",
      " 'Jharkhand' 'Delhi' 'Manipur' 'Jammu and Kashmir' 'Telangana'\n",
      " 'Arunachal Pradesh' 'Sikkim']\n"
     ]
    }
   ],
   "source": [
    "s2 =df2[\"State\"].unique()\n",
    "print(s2)"
   ]
  },
  {
   "cell_type": "code",
   "execution_count": null,
   "metadata": {},
   "outputs": [],
   "source": []
  },
  {
   "cell_type": "code",
   "execution_count": 14,
   "metadata": {},
   "outputs": [
    {
     "name": "stdout",
     "output_type": "stream",
     "text": [
      "<class 'pandas.core.frame.DataFrame'>\n",
      "RangeIndex: 99849 entries, 0 to 99848\n",
      "Data columns (total 13 columns):\n",
      " #   Column              Non-Null Count  Dtype  \n",
      "---  ------              --------------  -----  \n",
      " 0   Unnamed: 0          99849 non-null  int64  \n",
      " 1   State_Name          99849 non-null  object \n",
      " 2   Crop_Type           99849 non-null  object \n",
      " 3   Crop                99849 non-null  object \n",
      " 4   N                   99849 non-null  int64  \n",
      " 5   P                   99849 non-null  int64  \n",
      " 6   K                   99849 non-null  int64  \n",
      " 7   pH                  99849 non-null  float64\n",
      " 8   rainfall            99849 non-null  float64\n",
      " 9   temperature         99849 non-null  float64\n",
      " 10  Area_in_hectares    99849 non-null  float64\n",
      " 11  Production_in_tons  99849 non-null  float64\n",
      " 12  Yield_ton_per_hec   99849 non-null  float64\n",
      "dtypes: float64(6), int64(4), object(3)\n",
      "memory usage: 9.9+ MB\n"
     ]
    }
   ],
   "source": [
    "df3 = pd.read_csv(\"Data/Crop_production 2.csv\")\n",
    "df3.info()"
   ]
  },
  {
   "cell_type": "code",
   "execution_count": 15,
   "metadata": {},
   "outputs": [
    {
     "name": "stdout",
     "output_type": "stream",
     "text": [
      "Unnamed: 0            99849\n",
      "State_Name               33\n",
      "Crop_Type                 4\n",
      "Crop                     53\n",
      "N                        15\n",
      "P                        13\n",
      "K                        16\n",
      "pH                      101\n",
      "rainfall                111\n",
      "temperature             109\n",
      "Area_in_hectares      26346\n",
      "Production_in_tons    33217\n",
      "Yield_ton_per_hec     72860\n",
      "dtype: int64\n"
     ]
    }
   ],
   "source": [
    "print(df3.nunique())\n",
    "df3[\"Crop\"].unique()\n",
    "c3 = df3[\"Crop\"].unique()"
   ]
  },
  {
   "cell_type": "code",
   "execution_count": 16,
   "metadata": {},
   "outputs": [],
   "source": [
    "c1[-1] = np.nan_to_num(c1[-1])"
   ]
  }
 ],
 "metadata": {
  "kernelspec": {
   "display_name": ".myenv",
   "language": "python",
   "name": "python3"
  },
  "language_info": {
   "codemirror_mode": {
    "name": "ipython",
    "version": 3
   },
   "file_extension": ".py",
   "mimetype": "text/x-python",
   "name": "python",
   "nbconvert_exporter": "python",
   "pygments_lexer": "ipython3",
   "version": "3.10.12"
  }
 },
 "nbformat": 4,
 "nbformat_minor": 2
}
